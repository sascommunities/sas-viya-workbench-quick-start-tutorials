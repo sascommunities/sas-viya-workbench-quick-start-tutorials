{
 "cells": [
  {
   "cell_type": "markdown",
   "metadata": {},
   "source": [
    "# Execute SQL with Python in SAS Viya Workbench"
   ]
  },
  {
   "cell_type": "markdown",
   "metadata": {},
   "source": [
    "Import the necessary packages."
   ]
  },
  {
   "cell_type": "code",
   "execution_count": null,
   "metadata": {},
   "outputs": [],
   "source": [
    "import requests\n",
    "import pandas as pd\n",
    "from pandasql import sqldf"
   ]
  },
  {
   "cell_type": "markdown",
   "metadata": {},
   "source": [
    "## 1.  Download the data to the SAS Viya Workbench environment"
   ]
  },
  {
   "cell_type": "code",
   "execution_count": null,
   "metadata": {},
   "outputs": [],
   "source": [
    "## File path and name\n",
    "file_path = r\"/workspaces/myfolder/ExecutingSQL/home_equity_py.csv\"\n",
    "\n",
    "## Specify the URL of the CSV file\n",
    "url = r\"https://support.sas.com/documentation/onlinedoc/viya/exampledatasets/home_equity.csv\"\n",
    "\n",
    "## Download the and save CSV file to Workbench\n",
    "response = requests.get(url)\n",
    "with open(file_path, 'wb') as f:\n",
    "    f.write(response.content)\n",
    "    print(f'File downloaded:{file_path}')\n"
   ]
  },
  {
   "cell_type": "markdown",
   "metadata": {},
   "source": [
    "## 2. Create the DataFrame"
   ]
  },
  {
   "cell_type": "markdown",
   "metadata": {},
   "source": [
    "Read the **home_equity_py.csv** file from the **ExecutingSQL** folder."
   ]
  },
  {
   "cell_type": "code",
   "execution_count": null,
   "metadata": {},
   "outputs": [],
   "source": [
    "he_df = pd.read_csv(file_path)"
   ]
  },
  {
   "cell_type": "markdown",
   "metadata": {},
   "source": [
    "Preview the DataFrame."
   ]
  },
  {
   "cell_type": "code",
   "execution_count": null,
   "metadata": {},
   "outputs": [],
   "source": [
    "he_df.head()"
   ]
  },
  {
   "cell_type": "markdown",
   "metadata": {},
   "source": [
    "## 3. Execute SQL using the pandasql package"
   ]
  },
  {
   "cell_type": "markdown",
   "metadata": {},
   "source": [
    "Preview the data using SQL using the LIMIT clause."
   ]
  },
  {
   "cell_type": "code",
   "execution_count": null,
   "metadata": {},
   "outputs": [],
   "source": [
    "sqldf('''\n",
    "    SELECT *\n",
    "    FROM he_df\n",
    "    LIMIT 10\n",
    "''')"
   ]
  },
  {
   "cell_type": "markdown",
   "metadata": {},
   "source": [
    "Store the query in a variable as a string for readability."
   ]
  },
  {
   "cell_type": "code",
   "execution_count": null,
   "metadata": {},
   "outputs": [],
   "source": [
    "preview_data = '''\n",
    "SELECT *\n",
    "FROM he_df\n",
    "LIMIT 10\n",
    "'''\n",
    "sqldf(preview_data)"
   ]
  },
  {
   "cell_type": "markdown",
   "metadata": {},
   "source": [
    "Use the GROUP BY clause to aggregate your data."
   ]
  },
  {
   "cell_type": "code",
   "execution_count": null,
   "metadata": {},
   "outputs": [],
   "source": [
    "query = '''\n",
    "SELECT BAD, count(*) as TOTAL\n",
    "FROM he_df\n",
    "GROUP BY BAD;\n",
    "'''\n",
    "\n",
    "sqldf(query)"
   ]
  },
  {
   "cell_type": "markdown",
   "metadata": {},
   "source": [
    "Count the number of missing values in the **BAD**, **MORTDUE**, and **VALUE** columns."
   ]
  },
  {
   "cell_type": "code",
   "execution_count": null,
   "metadata": {},
   "outputs": [],
   "source": [
    "query = '''\n",
    "SELECT\n",
    "    sum(CASE WHEN BAD IS NULL THEN 1 ELSE 0 END) as MISSING_BAD,\n",
    "    sum(CASE WHEN VALUE IS NULL THEN 1 ELSE 0 END) as MISSING_VALUE,\n",
    "    sum(CASE WHEN MORTDUE IS NULL THEN 1 ELSE 0 END) as MISSING_MORTDUE\n",
    "FROM he_df;\n",
    "'''\n",
    "\n",
    "sqldf(query)"
   ]
  },
  {
   "cell_type": "markdown",
   "metadata": {},
   "source": [
    "Use Python functions and f-strings to create dynamic code. Create a function that calculates the total number of NULL values in a specified column."
   ]
  },
  {
   "cell_type": "code",
   "execution_count": null,
   "metadata": {},
   "outputs": [],
   "source": [
    "def num_missing(df, colName):\n",
    "\n",
    "    df_copy = df\n",
    "\n",
    "    query = f'''\n",
    "    SELECT\n",
    "        sum(CASE WHEN {colName} IS NULL THEN 1 ELSE 0 END) as MISSING_{colName}\n",
    "    FROM df_copy;\n",
    "    '''\n",
    "    return sqldf(query)"
   ]
  },
  {
   "cell_type": "code",
   "execution_count": null,
   "metadata": {},
   "outputs": [],
   "source": [
    "num_missing(he_df,'MORTDUE')"
   ]
  },
  {
   "cell_type": "markdown",
   "metadata": {},
   "source": [
    "Use Python f-strings and list comprehensions to create a dynamic function to count the total number of NULL values in every column of a DataFrame."
   ]
  },
  {
   "cell_type": "code",
   "execution_count": null,
   "metadata": {},
   "outputs": [],
   "source": [
    "def count_all_missing(df):\n",
    "\n",
    "    df_copy = df\n",
    "\n",
    "    ## List of column names in the DataFrame\n",
    "    colNames = df_copy.columns.to_list()\n",
    "\n",
    "    ## Create the CASE expression SELECT statement for each column\n",
    "    cols_case_statement_list = [f'SUM(CASE WHEN {col} IS NULL THEN 1 ELSE 0 END) as MISSING_{col}' for col in colNames]\n",
    "    \n",
    "    ## Create a string using each element of the list, separated by a comma\n",
    "    delimiter = \", \"\n",
    "    select_stm = delimiter.join(cols_case_statement_list)\n",
    "    \n",
    "    ## Add the SELECT statement to the query\n",
    "    query = f'SELECT {select_stm} FROM df_copy'\n",
    "\n",
    "    return sqldf(query)"
   ]
  },
  {
   "cell_type": "code",
   "execution_count": null,
   "metadata": {},
   "outputs": [],
   "source": [
    "count_all_missing(he_df)"
   ]
  }
 ],
 "metadata": {
  "kernelspec": {
   "display_name": "Python 3",
   "language": "python",
   "name": "python3"
  },
  "language_info": {
   "codemirror_mode": {
    "name": "ipython",
    "version": 3
   },
   "file_extension": ".py",
   "mimetype": "text/x-python",
   "name": "python",
   "nbconvert_exporter": "python",
   "pygments_lexer": "ipython3",
   "version": "3.11.5"
  }
 },
 "nbformat": 4,
 "nbformat_minor": 2
}
